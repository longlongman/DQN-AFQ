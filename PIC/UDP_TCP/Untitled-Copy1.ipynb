{
 "cells": [
  {
   "cell_type": "code",
   "execution_count": 104,
   "metadata": {
    "collapsed": true
   },
   "outputs": [],
   "source": [
    "import matplotlib.pyplot as plt\n",
    "import re"
   ]
  },
  {
   "cell_type": "code",
   "execution_count": 105,
   "metadata": {
    "collapsed": true
   },
   "outputs": [],
   "source": [
    "#记录每条流每时的速率\n",
    "UDP_flows = {}\n",
    "TCP_flows = {}\n",
    "#flows[12] = [1,2]\n",
    "#print(flows[12])"
   ]
  },
  {
   "cell_type": "code",
   "execution_count": 106,
   "metadata": {},
   "outputs": [
    {
     "name": "stdout",
     "output_type": "stream",
     "text": [
      "{'[ 12]': ['47.0 Kbits/sec', '176 Kbits/sec', '176 Kbits/sec', '129 Kbits/sec', '153 Kbits/sec', '212 Kbits/sec', '106 Kbits/sec', '165 Kbits/sec', '176 Kbits/sec', '153 Kbits/sec', '153 Kbits/sec'], '[ 13]': ['47.0 Kbits/sec', '188 Kbits/sec', '165 Kbits/sec', '129 Kbits/sec', '153 Kbits/sec', '200 Kbits/sec', '118 Kbits/sec', '165 Kbits/sec', '176 Kbits/sec', '165 Kbits/sec', '153 Kbits/sec'], '[ 14]': ['47.0 Kbits/sec', '176 Kbits/sec', '176 Kbits/sec', '129 Kbits/sec', '141 Kbits/sec', '223 Kbits/sec', '106 Kbits/sec', '165 Kbits/sec', '176 Kbits/sec', '153 Kbits/sec', '153 Kbits/sec'], '[ 15]': ['35.3 Kbits/sec', '176 Kbits/sec', '188 Kbits/sec', '129 Kbits/sec', '141 Kbits/sec', '212 Kbits/sec', '106 Kbits/sec', '176 Kbits/sec', '176 Kbits/sec', '165 Kbits/sec', '153 Kbits/sec'], '[ 16]': ['35.3 Kbits/sec', '188 Kbits/sec', '176 Kbits/sec', '118 Kbits/sec', '153 Kbits/sec', '212 Kbits/sec', '106 Kbits/sec', '176 Kbits/sec', '165 Kbits/sec', '165 Kbits/sec', '153 Kbits/sec']}\n"
     ]
    }
   ],
   "source": [
    "#按行读取文件\n",
    "UDP_file_path = 'UDP_RES'\n",
    "#file_path = 'AFQ_RES5'\n",
    "with open(UDP_file_path) as f:\n",
    "    for line in f:\n",
    "        # print(line)\n",
    "        result = re.match(r'\\[ (\\d)*\\].*',line)\n",
    "        if result:\n",
    "            # print(result.group())\n",
    "            # print(re.search(r'\\[ (\\d)*\\]',line).group())\n",
    "            index = re.search(r'\\[ (\\d)*\\]',line).group()\n",
    "            if index not in UDP_flows:\n",
    "                UDP_flows[index] = []\n",
    "                # print(index)\n",
    "            else:\n",
    "                value = re.search(r'(((\\d)*)((\\.)?)((\\d)*) Mbits/sec)|(((\\d)*)((\\.)?)((\\d)*) Kbits/sec)',line)\n",
    "                if value:\n",
    "                    value = value.group()\n",
    "                    # print(index,value)\n",
    "                    UDP_flows[index].append(value)\n",
    "print(UDP_flows)"
   ]
  },
  {
   "cell_type": "code",
   "execution_count": 107,
   "metadata": {},
   "outputs": [
    {
     "name": "stdout",
     "output_type": "stream",
     "text": [
      "{'[ 13]': ['973 Kbits/sec', '34.8 Kbits/sec', '127 Kbits/sec', '162 Kbits/sec', '162 Kbits/sec', '174 Kbits/sec', '185 Kbits/sec', '266 Kbits/sec', '209 Kbits/sec', '116 Kbits/sec', '34.8 Kbits/sec', '197 Kbits/sec', '174 Kbits/sec', '151 Kbits/sec', '185 Kbits/sec', '232 Kbits/sec', '579 Kbits/sec', '174 Kbits/sec', '219 Kbits/sec']}\n"
     ]
    }
   ],
   "source": [
    "#按行读取文件\n",
    "TCP_file_path = 'TCP_RES'\n",
    "#file_path = 'AFQ_RES5'\n",
    "with open(TCP_file_path) as f:\n",
    "    for line in f:\n",
    "        # print(line)\n",
    "        result = re.match(r'\\[ (\\d)*\\].*',line)\n",
    "        if result:\n",
    "            # print(result.group())\n",
    "            # print(re.search(r'\\[ (\\d)*\\]',line).group())\n",
    "            index = re.search(r'\\[ (\\d)*\\]',line).group()\n",
    "            if index not in TCP_flows:\n",
    "                TCP_flows[index] = []\n",
    "                # print(index)\n",
    "            else:\n",
    "                value = re.search(r'(((\\d)*)((\\.)?)((\\d)*) Mbits/sec)|(((\\d)*)((\\.)?)((\\d)*) Kbits/sec)',line)\n",
    "                if value:\n",
    "                    value = value.group()\n",
    "                    # print(index,value)\n",
    "                    TCP_flows[index].append(value)\n",
    "print(TCP_flows)"
   ]
  },
  {
   "cell_type": "code",
   "execution_count": 108,
   "metadata": {},
   "outputs": [
    {
     "name": "stdout",
     "output_type": "stream",
     "text": [
      "{'[ 12]': [47.0, 176.0, 176.0, 129.0, 153.0, 212.0, 106.0, 165.0, 176.0, 153.0, 153.0], '[ 13]': [47.0, 188.0, 165.0, 129.0, 153.0, 200.0, 118.0, 165.0, 176.0, 165.0, 153.0], '[ 14]': [47.0, 176.0, 176.0, 129.0, 141.0, 223.0, 106.0, 165.0, 176.0, 153.0, 153.0], '[ 15]': [35.3, 176.0, 188.0, 129.0, 141.0, 212.0, 106.0, 176.0, 176.0, 165.0, 153.0], '[ 16]': [35.3, 188.0, 176.0, 118.0, 153.0, 212.0, 106.0, 176.0, 165.0, 165.0, 153.0]}\n"
     ]
    }
   ],
   "source": [
    "for index in UDP_flows:\n",
    "    # print(flows[index])\n",
    "    for ind,value in enumerate(UDP_flows[index]):\n",
    "        # print(ind,value)\n",
    "        if value[-9:] == 'Mbits/sec':\n",
    "            # print(ind,value)\n",
    "            value = float(value[:-9])\n",
    "            value *= 1000\n",
    "            UDP_flows[index][ind] = value\n",
    "        elif value[-9:] == 'Kbits/sec':\n",
    "            value = float(value[:-9])\n",
    "            UDP_flows[index][ind] = value\n",
    "            \n",
    "#数据对齐 dqn\n",
    "#flows['[ 12]'] = flows['[ 12]'][1:]\n",
    "#flows['[ 13]'] = flows['[ 13]'][:-1]\n",
    "\n",
    "#数据对齐 afq\n",
    "#flows['[ 12]'] = flows['[ 12]'][1:]\n",
    "#flows['[ 13]'] = flows['[ 13]'][:-1]\n",
    "print(UDP_flows)"
   ]
  },
  {
   "cell_type": "code",
   "execution_count": 109,
   "metadata": {},
   "outputs": [
    {
     "name": "stdout",
     "output_type": "stream",
     "text": [
      "{'[ 13]': [34.8, 127.0, 162.0, 162.0, 174.0, 185.0, 266.0, 209.0, 116.0, 34.8, 197.0, 174.0, 151.0, 185.0, 232.0, 579.0, 174.0, 219.0]}\n"
     ]
    }
   ],
   "source": [
    "for index in TCP_flows:\n",
    "    # print(flows[index])\n",
    "    for ind,value in enumerate(TCP_flows[index]):\n",
    "        # print(ind,value)\n",
    "        if value[-9:] == 'Mbits/sec':\n",
    "            # print(ind,value)\n",
    "            value = float(value[:-9])\n",
    "            value *= 1000\n",
    "            TCP_flows[index][ind] = value\n",
    "        elif value[-9:] == 'Kbits/sec':\n",
    "            value = float(value[:-9])\n",
    "            TCP_flows[index][ind] = value\n",
    "            \n",
    "#数据对齐 dqn\n",
    "#flows['[ 12]'] = flows['[ 12]'][1:]\n",
    "TCP_flows['[ 13]'] = TCP_flows['[ 13]'][1:]\n",
    "\n",
    "#数据对齐 afq\n",
    "#flows['[ 12]'] = flows['[ 12]'][1:]\n",
    "#flows['[ 13]'] = flows['[ 13]'][:-1]\n",
    "print(TCP_flows)"
   ]
  },
  {
   "cell_type": "code",
   "execution_count": 110,
   "metadata": {},
   "outputs": [
    {
     "data": {
      "image/png": "[encoded data removed]",
      "text/plain": [
       "<matplotlib.figure.Figure at 0x6063e9d080>"
      ]
     },
     "metadata": {},
     "output_type": "display_data"
    }
   ],
   "source": [
    "#正式画图\n",
    "fig = plt.figure()\n",
    "plt.title('UDP-TCP')\n",
    "plt.ylabel('bandwidth(kbps)')\n",
    "plt.xlabel('time(sec)')\n",
    "for index in UDP_flows:\n",
    "    plt.plot(UDP_flows[index][:-1])\n",
    "for index in TCP_flows:\n",
    "    plt.plot(TCP_flows[index][:-8])\n",
    "plt.savefig(\"UDP_TCP.png\")\n",
    "plt.show()"
   ]
  }
 ],
 "metadata": {
  "kernelspec": {
   "display_name": "Python 3",
   "language": "python",
   "name": "python3"
  },
  "language_info": {
   "codemirror_mode": {
    "name": "ipython",
    "version": 3
   },
   "file_extension": ".py",
   "mimetype": "text/x-python",
   "name": "python",
   "nbconvert_exporter": "python",
   "pygments_lexer": "ipython3",
   "version": "3.6.1"
  }
 },
 "nbformat": 4,
 "nbformat_minor": 2
}
