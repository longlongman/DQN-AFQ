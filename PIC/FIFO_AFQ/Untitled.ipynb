{
 "cells": [
  {
   "cell_type": "code",
   "execution_count": 35,
   "metadata": {
    "collapsed": true
   },
   "outputs": [],
   "source": [
    "import matplotlib.pyplot as plt\n",
    "import re"
   ]
  },
  {
   "cell_type": "code",
   "execution_count": 36,
   "metadata": {
    "collapsed": true
   },
   "outputs": [],
   "source": [
    "#记录每条流每时的速率\n",
    "flows = {}\n",
    "#flows[12] = [1,2]\n",
    "#print(flows[12])"
   ]
  },
  {
   "cell_type": "code",
   "execution_count": 37,
   "metadata": {},
   "outputs": [
    {
     "name": "stdout",
     "output_type": "stream",
     "text": [
      "{'[ 12]': ['1.02 Mbits/sec', '588 Kbits/sec', '541 Kbits/sec', '447 Kbits/sec', '541 Kbits/sec', '470 Kbits/sec', '517 Kbits/sec', '470 Kbits/sec', '517 Kbits/sec', '470 Kbits/sec', '557 Kbits/sec'], '[ 13]': ['353 Kbits/sec', '529 Kbits/sec', '459 Kbits/sec', '529 Kbits/sec', '494 Kbits/sec', '506 Kbits/sec', '482 Kbits/sec', '506 Kbits/sec', '482 Kbits/sec', '506 Kbits/sec', '443 Kbits/sec']}\n"
     ]
    }
   ],
   "source": [
    "#按行读取文件\n",
    "#file_path = 'FIFO_RES'\n",
    "file_path = 'AFQ_RES1'\n",
    "with open(file_path) as f:\n",
    "    for line in f:\n",
    "        # print(line)\n",
    "        result = re.match(r'\\[ (\\d)*\\].*',line)\n",
    "        if result:\n",
    "            # print(result.group())\n",
    "            # print(re.search(r'\\[ (\\d)*\\]',line).group())\n",
    "            index = re.search(r'\\[ (\\d)*\\]',line).group()\n",
    "            if index not in flows:\n",
    "                flows[index] = []\n",
    "                # print(index)\n",
    "            else:\n",
    "                value = re.search(r'(((\\d)*)((\\.)?)((\\d)*) Mbits/sec)|(((\\d)*)((\\.)?)((\\d)*) Kbits/sec)',line)\n",
    "                if value:\n",
    "                    value = value.group()\n",
    "                    # print(index,value)\n",
    "                    flows[index].append(value)\n",
    "print(flows)"
   ]
  },
  {
   "cell_type": "code",
   "execution_count": 38,
   "metadata": {},
   "outputs": [
    {
     "name": "stdout",
     "output_type": "stream",
     "text": [
      "{'[ 12]': [588.0, 541.0, 447.0, 541.0, 470.0, 517.0, 470.0, 517.0, 470.0, 557.0], '[ 13]': [353.0, 529.0, 459.0, 529.0, 494.0, 506.0, 482.0, 506.0, 482.0, 506.0]}\n"
     ]
    }
   ],
   "source": [
    "for index in flows:\n",
    "    # print(flows[index])\n",
    "    for ind,value in enumerate(flows[index]):\n",
    "        # print(ind,value)\n",
    "        if value[-9:] == 'Mbits/sec':\n",
    "            # print(ind,value)\n",
    "            value = float(value[:-9])\n",
    "            value *= 1000\n",
    "            flows[index][ind] = value\n",
    "        elif value[-9:] == 'Kbits/sec':\n",
    "            value = float(value[:-9])\n",
    "            flows[index][ind] = value\n",
    "#数据对齐 fifo\n",
    "#flows['[ 12]'] = flows['[ 12]'][1:]\n",
    "#flows['[ 13]'] = flows['[ 13]'][:-1]\n",
    "\n",
    "#数据对齐 afq\n",
    "flows['[ 12]'] = flows['[ 12]'][1:]\n",
    "flows['[ 13]'] = flows['[ 13]'][:-1]\n",
    "print(flows)"
   ]
  },
  {
   "cell_type": "code",
   "execution_count": 39,
   "metadata": {},
   "outputs": [
    {
     "data": {
      "image/png": "[encoded data removed]",
      "text/plain": [
       "<matplotlib.figure.Figure at 0xefe90db278>"
      ]
     },
     "metadata": {},
     "output_type": "display_data"
    }
   ],
   "source": [
    "#正式画图\n",
    "fig = plt.figure()\n",
    "plt.title('AFQ')\n",
    "plt.ylabel('bandwidth(kbps)')\n",
    "plt.xlabel('time(sec)')\n",
    "for index in flows:\n",
    "    plt.plot(flows[index][:-1])\n",
    "plt.savefig(\"AFQ.png\")\n",
    "plt.show()"
   ]
  }
 ],
 "metadata": {
  "kernelspec": {
   "display_name": "Python 3",
   "language": "python",
   "name": "python3"
  },
  "language_info": {
   "codemirror_mode": {
    "name": "ipython",
    "version": 3
   },
   "file_extension": ".py",
   "mimetype": "text/x-python",
   "name": "python",
   "nbconvert_exporter": "python",
   "pygments_lexer": "ipython3",
   "version": "3.6.1"
  }
 },
 "nbformat": 4,
 "nbformat_minor": 2
}
